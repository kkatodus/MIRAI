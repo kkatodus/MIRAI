{
  "cells": [
    {
      "cell_type": "markdown",
      "metadata": {
        "colab_type": "text",
        "id": "view-in-github"
      },
      "source": [
        "<a href=\"https://colab.research.google.com/github/wilson1yan/VideoGPT/blob/master/notebooks/Using_VideoGPT.ipynb\" target=\"_parent\"><img src=\"https://colab.research.google.com/assets/colab-badge.svg\" alt=\"Open In Colab\"/></a>"
      ]
    },
    {
      "cell_type": "markdown",
      "metadata": {
        "id": "bXfZXsNhy08r"
      },
      "source": [
        "# Using VideoGPT\n",
        "This is a notebook demonstrating how to use VideoGPT and any pretrained models, Make sure that it is a GPU instance: **Change Runtime Type -> GPU**"
      ]
    },
    {
      "cell_type": "markdown",
      "metadata": {
        "id": "ponLMda7zBmF"
      },
      "source": [
        "## Installation\n",
        "First, we install the necessary packages"
      ]
    },
    {
      "cell_type": "code",
      "execution_count": 1,
      "metadata": {
        "colab": {
          "base_uri": "https://localhost:8080/"
        },
        "id": "KD86SgJ1yvwZ",
        "outputId": "0dc7d06f-dc2e-4ce5-b8db-ccf276d21777"
      },
      "outputs": [
        {
          "name": "stdout",
          "output_type": "stream",
          "text": [
            "Requirement already satisfied: scikit-video in /home/ubuntu/miniconda3/lib/python3.10/site-packages (1.1.11)\n",
            "Requirement already satisfied: av in /home/ubuntu/miniconda3/lib/python3.10/site-packages (10.0.0)\n",
            "Requirement already satisfied: numpy in /home/ubuntu/miniconda3/lib/python3.10/site-packages (from scikit-video) (1.24.2)\n",
            "Requirement already satisfied: pillow in /home/ubuntu/miniconda3/lib/python3.10/site-packages (from scikit-video) (9.5.0)\n",
            "Requirement already satisfied: scipy in /home/ubuntu/miniconda3/lib/python3.10/site-packages (from scikit-video) (1.10.1)\n",
            "Requirement already satisfied: gdown in /home/ubuntu/miniconda3/lib/python3.10/site-packages (4.7.1)\n",
            "Requirement already satisfied: beautifulsoup4 in /home/ubuntu/miniconda3/lib/python3.10/site-packages (from gdown) (4.12.2)\n",
            "Requirement already satisfied: filelock in /home/ubuntu/miniconda3/lib/python3.10/site-packages (from gdown) (3.11.0)\n",
            "Requirement already satisfied: requests[socks] in /home/ubuntu/miniconda3/lib/python3.10/site-packages (from gdown) (2.28.1)\n",
            "Requirement already satisfied: six in /home/ubuntu/miniconda3/lib/python3.10/site-packages (from gdown) (1.16.0)\n",
            "Requirement already satisfied: tqdm in /home/ubuntu/miniconda3/lib/python3.10/site-packages (from gdown) (4.64.1)\n",
            "Requirement already satisfied: soupsieve>1.2 in /home/ubuntu/miniconda3/lib/python3.10/site-packages (from beautifulsoup4->gdown) (2.4)\n",
            "Requirement already satisfied: charset-normalizer<3,>=2 in /home/ubuntu/miniconda3/lib/python3.10/site-packages (from requests[socks]->gdown) (2.0.4)\n",
            "Requirement already satisfied: idna<4,>=2.5 in /home/ubuntu/miniconda3/lib/python3.10/site-packages (from requests[socks]->gdown) (3.4)\n",
            "Requirement already satisfied: certifi>=2017.4.17 in /home/ubuntu/miniconda3/lib/python3.10/site-packages (from requests[socks]->gdown) (2022.12.7)\n",
            "Requirement already satisfied: urllib3<1.27,>=1.21.1 in /home/ubuntu/miniconda3/lib/python3.10/site-packages (from requests[socks]->gdown) (1.26.14)\n",
            "Requirement already satisfied: PySocks!=1.5.7,>=1.5.6 in /home/ubuntu/miniconda3/lib/python3.10/site-packages (from requests[socks]->gdown) (1.7.1)\n",
            "Requirement already satisfied: tqdm in /home/ubuntu/miniconda3/lib/python3.10/site-packages (from -r requirements.txt (line 15)) (4.64.1)\n",
            "Requirement already satisfied: requests in /home/ubuntu/miniconda3/lib/python3.10/site-packages (from -r requirements.txt (line 16)) (2.28.1)\n",
            "Requirement already satisfied: h5py in /home/ubuntu/miniconda3/lib/python3.10/site-packages (from -r requirements.txt (line 17)) (3.8.0)\n",
            "Requirement already satisfied: torch in /home/ubuntu/miniconda3/lib/python3.10/site-packages (from -r requirements.txt (line 18)) (2.0.0)\n",
            "Requirement already satisfied: torchvision in /home/ubuntu/miniconda3/lib/python3.10/site-packages (from -r requirements.txt (line 19)) (0.15.1)\n",
            "Requirement already satisfied: torchtext in /home/ubuntu/miniconda3/lib/python3.10/site-packages (from -r requirements.txt (line 20)) (0.15.1)\n",
            "Requirement already satisfied: pytorch_lightning in /home/ubuntu/miniconda3/lib/python3.10/site-packages (from -r requirements.txt (line 21)) (2.0.1)\n",
            "Requirement already satisfied: scikit-video in /home/ubuntu/miniconda3/lib/python3.10/site-packages (from -r requirements.txt (line 22)) (1.1.11)\n",
            "Requirement already satisfied: av in /home/ubuntu/miniconda3/lib/python3.10/site-packages (from -r requirements.txt (line 23)) (10.0.0)\n",
            "Requirement already satisfied: gradio in /home/ubuntu/miniconda3/lib/python3.10/site-packages (from -r requirements.txt (line 24)) (3.24.1)\n",
            "Requirement already satisfied: moviepy in /home/ubuntu/miniconda3/lib/python3.10/site-packages (from -r requirements.txt (line 25)) (1.0.3)\n",
            "Requirement already satisfied: imageio in /home/ubuntu/miniconda3/lib/python3.10/site-packages (from -r requirements.txt (line 26)) (2.27.0)\n",
            "Requirement already satisfied: gdown in /home/ubuntu/miniconda3/lib/python3.10/site-packages (from -r requirements.txt (line 27)) (4.7.1)\n",
            "Requirement already satisfied: charset-normalizer<3,>=2 in /home/ubuntu/miniconda3/lib/python3.10/site-packages (from requests->-r requirements.txt (line 16)) (2.0.4)\n",
            "Requirement already satisfied: urllib3<1.27,>=1.21.1 in /home/ubuntu/miniconda3/lib/python3.10/site-packages (from requests->-r requirements.txt (line 16)) (1.26.14)\n",
            "Requirement already satisfied: idna<4,>=2.5 in /home/ubuntu/miniconda3/lib/python3.10/site-packages (from requests->-r requirements.txt (line 16)) (3.4)\n",
            "Requirement already satisfied: certifi>=2017.4.17 in /home/ubuntu/miniconda3/lib/python3.10/site-packages (from requests->-r requirements.txt (line 16)) (2022.12.7)\n",
            "Requirement already satisfied: numpy>=1.14.5 in /home/ubuntu/miniconda3/lib/python3.10/site-packages (from h5py->-r requirements.txt (line 17)) (1.24.2)\n",
            "Requirement already satisfied: nvidia-cuda-cupti-cu11==11.7.101 in /home/ubuntu/miniconda3/lib/python3.10/site-packages (from torch->-r requirements.txt (line 18)) (11.7.101)\n",
            "Requirement already satisfied: nvidia-cufft-cu11==10.9.0.58 in /home/ubuntu/miniconda3/lib/python3.10/site-packages (from torch->-r requirements.txt (line 18)) (10.9.0.58)\n",
            "Requirement already satisfied: nvidia-nccl-cu11==2.14.3 in /home/ubuntu/miniconda3/lib/python3.10/site-packages (from torch->-r requirements.txt (line 18)) (2.14.3)\n",
            "Requirement already satisfied: nvidia-cusparse-cu11==11.7.4.91 in /home/ubuntu/miniconda3/lib/python3.10/site-packages (from torch->-r requirements.txt (line 18)) (11.7.4.91)\n",
            "Requirement already satisfied: nvidia-cublas-cu11==11.10.3.66 in /home/ubuntu/miniconda3/lib/python3.10/site-packages (from torch->-r requirements.txt (line 18)) (11.10.3.66)\n",
            "Requirement already satisfied: nvidia-cudnn-cu11==8.5.0.96 in /home/ubuntu/miniconda3/lib/python3.10/site-packages (from torch->-r requirements.txt (line 18)) (8.5.0.96)\n",
            "Requirement already satisfied: typing-extensions in /home/ubuntu/miniconda3/lib/python3.10/site-packages (from torch->-r requirements.txt (line 18)) (4.5.0)\n",
            "Requirement already satisfied: nvidia-cuda-nvrtc-cu11==11.7.99 in /home/ubuntu/miniconda3/lib/python3.10/site-packages (from torch->-r requirements.txt (line 18)) (11.7.99)\n",
            "Requirement already satisfied: nvidia-curand-cu11==10.2.10.91 in /home/ubuntu/miniconda3/lib/python3.10/site-packages (from torch->-r requirements.txt (line 18)) (10.2.10.91)\n",
            "Requirement already satisfied: filelock in /home/ubuntu/miniconda3/lib/python3.10/site-packages (from torch->-r requirements.txt (line 18)) (3.11.0)\n",
            "Requirement already satisfied: nvidia-cusolver-cu11==11.4.0.1 in /home/ubuntu/miniconda3/lib/python3.10/site-packages (from torch->-r requirements.txt (line 18)) (11.4.0.1)\n",
            "Requirement already satisfied: sympy in /home/ubuntu/miniconda3/lib/python3.10/site-packages (from torch->-r requirements.txt (line 18)) (1.11.1)\n",
            "Requirement already satisfied: nvidia-nvtx-cu11==11.7.91 in /home/ubuntu/miniconda3/lib/python3.10/site-packages (from torch->-r requirements.txt (line 18)) (11.7.91)\n",
            "Requirement already satisfied: networkx in /home/ubuntu/miniconda3/lib/python3.10/site-packages (from torch->-r requirements.txt (line 18)) (3.1)\n",
            "Requirement already satisfied: triton==2.0.0 in /home/ubuntu/miniconda3/lib/python3.10/site-packages (from torch->-r requirements.txt (line 18)) (2.0.0)\n",
            "Requirement already satisfied: jinja2 in /home/ubuntu/miniconda3/lib/python3.10/site-packages (from torch->-r requirements.txt (line 18)) (3.1.2)\n",
            "Requirement already satisfied: nvidia-cuda-runtime-cu11==11.7.99 in /home/ubuntu/miniconda3/lib/python3.10/site-packages (from torch->-r requirements.txt (line 18)) (11.7.99)\n",
            "Requirement already satisfied: setuptools in /home/ubuntu/miniconda3/lib/python3.10/site-packages (from nvidia-cublas-cu11==11.10.3.66->torch->-r requirements.txt (line 18)) (65.6.3)\n",
            "Requirement already satisfied: wheel in /home/ubuntu/miniconda3/lib/python3.10/site-packages (from nvidia-cublas-cu11==11.10.3.66->torch->-r requirements.txt (line 18)) (0.37.1)\n",
            "Requirement already satisfied: cmake in /home/ubuntu/miniconda3/lib/python3.10/site-packages (from triton==2.0.0->torch->-r requirements.txt (line 18)) (3.26.1)\n",
            "Requirement already satisfied: lit in /home/ubuntu/miniconda3/lib/python3.10/site-packages (from triton==2.0.0->torch->-r requirements.txt (line 18)) (16.0.0)\n",
            "Requirement already satisfied: pillow!=8.3.*,>=5.3.0 in /home/ubuntu/miniconda3/lib/python3.10/site-packages (from torchvision->-r requirements.txt (line 19)) (9.5.0)\n",
            "Requirement already satisfied: torchdata==0.6.0 in /home/ubuntu/miniconda3/lib/python3.10/site-packages (from torchtext->-r requirements.txt (line 20)) (0.6.0)\n",
            "Requirement already satisfied: torchmetrics>=0.7.0 in /home/ubuntu/miniconda3/lib/python3.10/site-packages (from pytorch_lightning->-r requirements.txt (line 21)) (0.11.4)\n",
            "Requirement already satisfied: lightning-utilities>=0.7.0 in /home/ubuntu/miniconda3/lib/python3.10/site-packages (from pytorch_lightning->-r requirements.txt (line 21)) (0.8.0)\n",
            "Requirement already satisfied: packaging>=17.1 in /home/ubuntu/miniconda3/lib/python3.10/site-packages (from pytorch_lightning->-r requirements.txt (line 21)) (23.0)\n",
            "Requirement already satisfied: fsspec[http]>2021.06.0 in /home/ubuntu/miniconda3/lib/python3.10/site-packages (from pytorch_lightning->-r requirements.txt (line 21)) (2023.4.0)\n",
            "Requirement already satisfied: PyYAML>=5.4 in /home/ubuntu/miniconda3/lib/python3.10/site-packages (from pytorch_lightning->-r requirements.txt (line 21)) (6.0)\n",
            "Requirement already satisfied: scipy in /home/ubuntu/miniconda3/lib/python3.10/site-packages (from scikit-video->-r requirements.txt (line 22)) (1.10.1)\n",
            "Requirement already satisfied: semantic-version in /home/ubuntu/miniconda3/lib/python3.10/site-packages (from gradio->-r requirements.txt (line 24)) (2.10.0)\n",
            "Requirement already satisfied: ffmpy in /home/ubuntu/miniconda3/lib/python3.10/site-packages (from gradio->-r requirements.txt (line 24)) (0.3.0)\n",
            "Requirement already satisfied: pydub in /home/ubuntu/miniconda3/lib/python3.10/site-packages (from gradio->-r requirements.txt (line 24)) (0.25.1)\n",
            "Requirement already satisfied: markupsafe in /home/ubuntu/miniconda3/lib/python3.10/site-packages (from gradio->-r requirements.txt (line 24)) (2.1.2)\n",
            "Requirement already satisfied: mdit-py-plugins<=0.3.3 in /home/ubuntu/miniconda3/lib/python3.10/site-packages (from gradio->-r requirements.txt (line 24)) (0.3.3)\n",
            "Requirement already satisfied: matplotlib in /home/ubuntu/miniconda3/lib/python3.10/site-packages (from gradio->-r requirements.txt (line 24)) (3.7.1)\n",
            "Requirement already satisfied: websockets>=10.0 in /home/ubuntu/miniconda3/lib/python3.10/site-packages (from gradio->-r requirements.txt (line 24)) (11.0.1)\n",
            "Requirement already satisfied: gradio-client>=0.0.5 in /home/ubuntu/miniconda3/lib/python3.10/site-packages (from gradio->-r requirements.txt (line 24)) (0.0.8)\n",
            "Requirement already satisfied: fastapi in /home/ubuntu/miniconda3/lib/python3.10/site-packages (from gradio->-r requirements.txt (line 24)) (0.95.0)\n",
            "Requirement already satisfied: altair>=4.2.0 in /home/ubuntu/miniconda3/lib/python3.10/site-packages (from gradio->-r requirements.txt (line 24)) (4.2.2)\n",
            "Requirement already satisfied: huggingface-hub>=0.13.0 in /home/ubuntu/miniconda3/lib/python3.10/site-packages (from gradio->-r requirements.txt (line 24)) (0.13.4)\n",
            "Requirement already satisfied: pydantic in /home/ubuntu/miniconda3/lib/python3.10/site-packages (from gradio->-r requirements.txt (line 24)) (1.10.7)\n",
            "Requirement already satisfied: python-multipart in /home/ubuntu/miniconda3/lib/python3.10/site-packages (from gradio->-r requirements.txt (line 24)) (0.0.6)\n",
            "Requirement already satisfied: httpx in /home/ubuntu/miniconda3/lib/python3.10/site-packages (from gradio->-r requirements.txt (line 24)) (0.23.3)\n",
            "Requirement already satisfied: pandas in /home/ubuntu/miniconda3/lib/python3.10/site-packages (from gradio->-r requirements.txt (line 24)) (2.0.0)\n",
            "Requirement already satisfied: aiohttp in /home/ubuntu/miniconda3/lib/python3.10/site-packages (from gradio->-r requirements.txt (line 24)) (3.8.4)\n",
            "Requirement already satisfied: markdown-it-py[linkify]>=2.0.0 in /home/ubuntu/miniconda3/lib/python3.10/site-packages (from gradio->-r requirements.txt (line 24)) (2.2.0)\n",
            "Requirement already satisfied: aiofiles in /home/ubuntu/miniconda3/lib/python3.10/site-packages (from gradio->-r requirements.txt (line 24)) (23.1.0)\n",
            "Requirement already satisfied: orjson in /home/ubuntu/miniconda3/lib/python3.10/site-packages (from gradio->-r requirements.txt (line 24)) (3.8.10)\n",
            "Requirement already satisfied: uvicorn in /home/ubuntu/miniconda3/lib/python3.10/site-packages (from gradio->-r requirements.txt (line 24)) (0.21.1)\n",
            "Requirement already satisfied: imageio-ffmpeg>=0.2.0 in /home/ubuntu/miniconda3/lib/python3.10/site-packages (from moviepy->-r requirements.txt (line 25)) (0.4.8)\n",
            "Requirement already satisfied: decorator<5.0,>=4.0.2 in /home/ubuntu/miniconda3/lib/python3.10/site-packages (from moviepy->-r requirements.txt (line 25)) (4.4.2)\n",
            "Requirement already satisfied: proglog<=1.0.0 in /home/ubuntu/miniconda3/lib/python3.10/site-packages (from moviepy->-r requirements.txt (line 25)) (0.1.10)\n",
            "Requirement already satisfied: beautifulsoup4 in /home/ubuntu/miniconda3/lib/python3.10/site-packages (from gdown->-r requirements.txt (line 27)) (4.12.2)\n",
            "Requirement already satisfied: six in /home/ubuntu/miniconda3/lib/python3.10/site-packages (from gdown->-r requirements.txt (line 27)) (1.16.0)\n",
            "Requirement already satisfied: jsonschema>=3.0 in /home/ubuntu/miniconda3/lib/python3.10/site-packages (from altair>=4.2.0->gradio->-r requirements.txt (line 24)) (4.17.3)\n",
            "Requirement already satisfied: toolz in /home/ubuntu/miniconda3/lib/python3.10/site-packages (from altair>=4.2.0->gradio->-r requirements.txt (line 24)) (0.12.0)\n",
            "Requirement already satisfied: entrypoints in /home/ubuntu/miniconda3/lib/python3.10/site-packages (from altair>=4.2.0->gradio->-r requirements.txt (line 24)) (0.4)\n",
            "Requirement already satisfied: attrs>=17.3.0 in /home/ubuntu/miniconda3/lib/python3.10/site-packages (from aiohttp->gradio->-r requirements.txt (line 24)) (22.2.0)\n",
            "Requirement already satisfied: aiosignal>=1.1.2 in /home/ubuntu/miniconda3/lib/python3.10/site-packages (from aiohttp->gradio->-r requirements.txt (line 24)) (1.3.1)\n",
            "Requirement already satisfied: multidict<7.0,>=4.5 in /home/ubuntu/miniconda3/lib/python3.10/site-packages (from aiohttp->gradio->-r requirements.txt (line 24)) (6.0.4)\n",
            "Requirement already satisfied: frozenlist>=1.1.1 in /home/ubuntu/miniconda3/lib/python3.10/site-packages (from aiohttp->gradio->-r requirements.txt (line 24)) (1.3.3)\n",
            "Requirement already satisfied: yarl<2.0,>=1.0 in /home/ubuntu/miniconda3/lib/python3.10/site-packages (from aiohttp->gradio->-r requirements.txt (line 24)) (1.8.2)\n",
            "Requirement already satisfied: async-timeout<5.0,>=4.0.0a3 in /home/ubuntu/miniconda3/lib/python3.10/site-packages (from aiohttp->gradio->-r requirements.txt (line 24)) (4.0.2)\n",
            "Requirement already satisfied: mdurl~=0.1 in /home/ubuntu/miniconda3/lib/python3.10/site-packages (from markdown-it-py[linkify]>=2.0.0->gradio->-r requirements.txt (line 24)) (0.1.2)\n",
            "Requirement already satisfied: linkify-it-py<3,>=1 in /home/ubuntu/miniconda3/lib/python3.10/site-packages (from markdown-it-py[linkify]>=2.0.0->gradio->-r requirements.txt (line 24)) (2.0.0)\n",
            "Requirement already satisfied: pytz>=2020.1 in /home/ubuntu/miniconda3/lib/python3.10/site-packages (from pandas->gradio->-r requirements.txt (line 24)) (2023.3)\n",
            "Requirement already satisfied: python-dateutil>=2.8.2 in /home/ubuntu/miniconda3/lib/python3.10/site-packages (from pandas->gradio->-r requirements.txt (line 24)) (2.8.2)\n",
            "Requirement already satisfied: tzdata>=2022.1 in /home/ubuntu/miniconda3/lib/python3.10/site-packages (from pandas->gradio->-r requirements.txt (line 24)) (2023.3)\n",
            "Requirement already satisfied: soupsieve>1.2 in /home/ubuntu/miniconda3/lib/python3.10/site-packages (from beautifulsoup4->gdown->-r requirements.txt (line 27)) (2.4)\n",
            "Requirement already satisfied: starlette<0.27.0,>=0.26.1 in /home/ubuntu/miniconda3/lib/python3.10/site-packages (from fastapi->gradio->-r requirements.txt (line 24)) (0.26.1)\n",
            "Requirement already satisfied: sniffio in /home/ubuntu/miniconda3/lib/python3.10/site-packages (from httpx->gradio->-r requirements.txt (line 24)) (1.3.0)\n",
            "Requirement already satisfied: httpcore<0.17.0,>=0.15.0 in /home/ubuntu/miniconda3/lib/python3.10/site-packages (from httpx->gradio->-r requirements.txt (line 24)) (0.16.3)\n",
            "Requirement already satisfied: rfc3986[idna2008]<2,>=1.3 in /home/ubuntu/miniconda3/lib/python3.10/site-packages (from httpx->gradio->-r requirements.txt (line 24)) (1.5.0)\n",
            "Requirement already satisfied: fonttools>=4.22.0 in /home/ubuntu/miniconda3/lib/python3.10/site-packages (from matplotlib->gradio->-r requirements.txt (line 24)) (4.39.3)\n",
            "Requirement already satisfied: pyparsing>=2.3.1 in /home/ubuntu/miniconda3/lib/python3.10/site-packages (from matplotlib->gradio->-r requirements.txt (line 24)) (3.0.9)\n",
            "Requirement already satisfied: cycler>=0.10 in /home/ubuntu/miniconda3/lib/python3.10/site-packages (from matplotlib->gradio->-r requirements.txt (line 24)) (0.11.0)\n",
            "Requirement already satisfied: kiwisolver>=1.0.1 in /home/ubuntu/miniconda3/lib/python3.10/site-packages (from matplotlib->gradio->-r requirements.txt (line 24)) (1.4.4)\n",
            "Requirement already satisfied: contourpy>=1.0.1 in /home/ubuntu/miniconda3/lib/python3.10/site-packages (from matplotlib->gradio->-r requirements.txt (line 24)) (1.0.7)\n",
            "Requirement already satisfied: PySocks!=1.5.7,>=1.5.6 in /home/ubuntu/miniconda3/lib/python3.10/site-packages (from requests->-r requirements.txt (line 16)) (1.7.1)\n",
            "Requirement already satisfied: mpmath>=0.19 in /home/ubuntu/miniconda3/lib/python3.10/site-packages (from sympy->torch->-r requirements.txt (line 18)) (1.3.0)\n",
            "Requirement already satisfied: click>=7.0 in /home/ubuntu/miniconda3/lib/python3.10/site-packages (from uvicorn->gradio->-r requirements.txt (line 24)) (8.1.3)\n",
            "Requirement already satisfied: h11>=0.8 in /home/ubuntu/miniconda3/lib/python3.10/site-packages (from uvicorn->gradio->-r requirements.txt (line 24)) (0.14.0)\n",
            "Requirement already satisfied: anyio<5.0,>=3.0 in /home/ubuntu/miniconda3/lib/python3.10/site-packages (from httpcore<0.17.0,>=0.15.0->httpx->gradio->-r requirements.txt (line 24)) (3.6.2)\n",
            "Requirement already satisfied: pyrsistent!=0.17.0,!=0.17.1,!=0.17.2,>=0.14.0 in /home/ubuntu/miniconda3/lib/python3.10/site-packages (from jsonschema>=3.0->altair>=4.2.0->gradio->-r requirements.txt (line 24)) (0.19.3)\n",
            "Requirement already satisfied: uc-micro-py in /home/ubuntu/miniconda3/lib/python3.10/site-packages (from linkify-it-py<3,>=1->markdown-it-py[linkify]>=2.0.0->gradio->-r requirements.txt (line 24)) (1.0.1)\n",
            "Requirement already satisfied: matplotlib in /home/ubuntu/miniconda3/lib/python3.10/site-packages (3.7.1)\n",
            "Requirement already satisfied: pillow>=6.2.0 in /home/ubuntu/miniconda3/lib/python3.10/site-packages (from matplotlib) (9.5.0)\n",
            "Requirement already satisfied: kiwisolver>=1.0.1 in /home/ubuntu/miniconda3/lib/python3.10/site-packages (from matplotlib) (1.4.4)\n",
            "Requirement already satisfied: fonttools>=4.22.0 in /home/ubuntu/miniconda3/lib/python3.10/site-packages (from matplotlib) (4.39.3)\n",
            "Requirement already satisfied: packaging>=20.0 in /home/ubuntu/miniconda3/lib/python3.10/site-packages (from matplotlib) (23.0)\n",
            "Requirement already satisfied: python-dateutil>=2.7 in /home/ubuntu/miniconda3/lib/python3.10/site-packages (from matplotlib) (2.8.2)\n",
            "Requirement already satisfied: cycler>=0.10 in /home/ubuntu/miniconda3/lib/python3.10/site-packages (from matplotlib) (0.11.0)\n",
            "Requirement already satisfied: numpy>=1.20 in /home/ubuntu/miniconda3/lib/python3.10/site-packages (from matplotlib) (1.24.2)\n",
            "Requirement already satisfied: pyparsing>=2.3.1 in /home/ubuntu/miniconda3/lib/python3.10/site-packages (from matplotlib) (3.0.9)\n",
            "Requirement already satisfied: contourpy>=1.0.1 in /home/ubuntu/miniconda3/lib/python3.10/site-packages (from matplotlib) (1.0.7)\n",
            "Requirement already satisfied: six>=1.5 in /home/ubuntu/miniconda3/lib/python3.10/site-packages (from python-dateutil>=2.7->matplotlib) (1.16.0)\n"
          ]
        }
      ],
      "source": [
        "#comment out to use the source code on local machine\n",
        "# ! pip install git+https://github.com/wilson1yan/VideoGPT.git\n",
        "! pip install scikit-video av\n",
        "! pip install --upgrade --no-cache-dir gdown\n",
        "! pip install -r requirements.txt\n",
        "! pip install matplotlib"
      ]
    },
    {
      "cell_type": "code",
      "execution_count": 2,
      "metadata": {
        "id": "6G1lfDiwycLl"
      },
      "outputs": [
        {
          "name": "stdout",
          "output_type": "stream",
          "text": [
            "0.11.4\n"
          ]
        }
      ],
      "source": [
        "%matplotlib inline\n",
        "\n",
        "from matplotlib import pyplot as plt\n",
        "from matplotlib import animation\n",
        "from IPython.display import HTML\n",
        "import torchmetrics\n",
        "print(torchmetrics.__version__)\n",
        "\n",
        "import os\n",
        "import torch\n",
        "from torchvision.io import read_video, read_video_timestamps\n",
        "\n",
        "\n",
        "from videogpt import download, load_vqvae, load_videogpt\n",
        "from videogpt import download, load_videogpt\n",
        "from videogpt.data import preprocess\n",
        "\n",
        "VIDEOS = {\n",
        "    'breakdancing': '1OZBnG235-J9LgB_qHv-waHZ4tjofiDgj',\n",
        "    'bear': '16nIaqq2vbPh-WMo_7hs9feVSe0jWVXLF',\n",
        "    'jaywalking': '1UxKCVrbyXhvMz_H7dI4w5hjPpRGCAApy',\n",
        "    'cartoon': '1ONcTMSEuGuLYIDbX-KeFqd390vbTIH9d'\n",
        "}\n",
        "\n",
        "ROOT = 'pretrained_models'"
      ]
    },
    {
      "cell_type": "code",
      "execution_count": 11,
      "metadata": {
        "colab": {
          "base_uri": "https://localhost:8080/"
        },
        "id": "95FevjM0XG_y",
        "outputId": "6a8f110f-25ec-47e5-9e63-044f0e7b2486"
      },
      "outputs": [
        {
          "name": "stderr",
          "output_type": "stream",
          "text": [
            "/home/ubuntu/miniconda3/lib/python3.10/site-packages/pytorch_lightning/utilities/migration/migration.py:201: PossibleUserWarning: You have multiple `ModelCheckpoint` callback states in this checkpoint, but we found state keys that would end up colliding with each other after an upgrade, which means we can't differentiate which of your checkpoint callbacks needs which states. At least one of your `ModelCheckpoint` callbacks will not be able to reload the state.\n",
            "  rank_zero_warn(\n",
            "Lightning automatically upgraded your loaded checkpoint from v1.3.3 to v2.0.1. To apply the upgrade to your files permanently, run `python -m pytorch_lightning.utilities.upgrade_checkpoint --file ../../.cache/videogpt/ucf101_uncond_gpt`\n",
            "Lightning automatically upgraded your loaded checkpoint from v1.1.1 to v2.0.1. To apply the upgrade to your files permanently, run `python -m pytorch_lightning.utilities.upgrade_checkpoint --file ../../.cache/videogpt/ucf101_stride4x4x4`\n"
          ]
        }
      ],
      "source": [
        "#loading the video GPT model\n",
        "device = torch.device('cuda')\n",
        "gpt = load_videogpt('bair_gpt', device=device).to(device)"
      ]
    },
    {
      "cell_type": "code",
      "execution_count": 12,
      "metadata": {},
      "outputs": [
        {
          "name": "stdout",
          "output_type": "stream",
          "text": [
            "gpt shape (4, 32, 32)\n"
          ]
        }
      ],
      "source": [
        "print(\"gpt shape\", gpt.shape)"
      ]
    },
    {
      "cell_type": "code",
      "execution_count": 10,
      "metadata": {},
      "outputs": [
        {
          "ename": "TypeError",
          "evalue": "VideoGPT.forward() missing 2 required positional arguments: 'targets' and 'cond'",
          "output_type": "error",
          "traceback": [
            "\u001b[0;31m---------------------------------------------------------------------------\u001b[0m",
            "\u001b[0;31mTypeError\u001b[0m                                 Traceback (most recent call last)",
            "Cell \u001b[0;32mIn[10], line 6\u001b[0m\n\u001b[1;32m      4\u001b[0m random_sample \u001b[39m=\u001b[39m torch\u001b[39m.\u001b[39mrand((\u001b[39m4\u001b[39m, \u001b[39m3\u001b[39m, \u001b[39m16\u001b[39m, \u001b[39m128\u001b[39m, \u001b[39m128\u001b[39m), device\u001b[39m=\u001b[39mdevice)\n\u001b[1;32m      5\u001b[0m \u001b[39m#passing the random sample through the model\u001b[39;00m\n\u001b[0;32m----> 6\u001b[0m output \u001b[39m=\u001b[39m gpt(random_sample)\n",
            "File \u001b[0;32m~/miniconda3/lib/python3.10/site-packages/torch/nn/modules/module.py:1501\u001b[0m, in \u001b[0;36mModule._call_impl\u001b[0;34m(self, *args, **kwargs)\u001b[0m\n\u001b[1;32m   1496\u001b[0m \u001b[39m# If we don't have any hooks, we want to skip the rest of the logic in\u001b[39;00m\n\u001b[1;32m   1497\u001b[0m \u001b[39m# this function, and just call forward.\u001b[39;00m\n\u001b[1;32m   1498\u001b[0m \u001b[39mif\u001b[39;00m \u001b[39mnot\u001b[39;00m (\u001b[39mself\u001b[39m\u001b[39m.\u001b[39m_backward_hooks \u001b[39mor\u001b[39;00m \u001b[39mself\u001b[39m\u001b[39m.\u001b[39m_backward_pre_hooks \u001b[39mor\u001b[39;00m \u001b[39mself\u001b[39m\u001b[39m.\u001b[39m_forward_hooks \u001b[39mor\u001b[39;00m \u001b[39mself\u001b[39m\u001b[39m.\u001b[39m_forward_pre_hooks\n\u001b[1;32m   1499\u001b[0m         \u001b[39mor\u001b[39;00m _global_backward_pre_hooks \u001b[39mor\u001b[39;00m _global_backward_hooks\n\u001b[1;32m   1500\u001b[0m         \u001b[39mor\u001b[39;00m _global_forward_hooks \u001b[39mor\u001b[39;00m _global_forward_pre_hooks):\n\u001b[0;32m-> 1501\u001b[0m     \u001b[39mreturn\u001b[39;00m forward_call(\u001b[39m*\u001b[39;49margs, \u001b[39m*\u001b[39;49m\u001b[39m*\u001b[39;49mkwargs)\n\u001b[1;32m   1502\u001b[0m \u001b[39m# Do not call functions when jit is used\u001b[39;00m\n\u001b[1;32m   1503\u001b[0m full_backward_hooks, non_full_backward_hooks \u001b[39m=\u001b[39m [], []\n",
            "\u001b[0;31mTypeError\u001b[0m: VideoGPT.forward() missing 2 required positional arguments: 'targets' and 'cond'"
          ]
        }
      ],
      "source": [
        "#testing output of the model\n",
        "#creates a random sample of 4 videos, 3 colors and 16 frames of 128x128\n",
        "\n",
        "random_sample = torch.rand((4, 3, 16, 128, 128), device=device)\n",
        "#passing the random sample through the model\n",
        "output = gpt(random_sample)"
      ]
    },
    {
      "cell_type": "code",
      "execution_count": null,
      "metadata": {},
      "outputs": [],
      "source": []
    }
  ],
  "metadata": {
    "accelerator": "GPU",
    "colab": {
      "collapsed_sections": [],
      "include_colab_link": true,
      "name": "Using_VideoGPT.ipynb",
      "provenance": []
    },
    "kernelspec": {
      "display_name": "Python 3",
      "name": "python3"
    },
    "language_info": {
      "codemirror_mode": {
        "name": "ipython",
        "version": 3
      },
      "file_extension": ".py",
      "mimetype": "text/x-python",
      "name": "python",
      "nbconvert_exporter": "python",
      "pygments_lexer": "ipython3",
      "version": "3.10.9"
    }
  },
  "nbformat": 4,
  "nbformat_minor": 0
}
